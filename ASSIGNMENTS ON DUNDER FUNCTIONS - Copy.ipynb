{
 "cells": [
  {
   "cell_type": "markdown",
   "id": "6d62e526",
   "metadata": {},
   "source": [
    "# Creating a dunder function for multiplication, subtraction and raised to the power(EXPONENTATION)\n",
    "# 5TH OF OCTOBER 2023"
   ]
  },
  {
   "cell_type": "code",
   "execution_count": 30,
   "id": "0cd10972",
   "metadata": {},
   "outputs": [],
   "source": [
    "class Quadratic:\n",
    "    def __init__(self,a,b,c):\n",
    "        self.a=a\n",
    "        self.b=b\n",
    "        self.c=c\n",
    "        \n",
    "    def discriminant(self):\n",
    "        return self.b**2 - 4*self.a*self.c\n",
    "    \n",
    "    def get_roots(self):\n",
    "        d = self.discriminant()\n",
    "        if d<0:\n",
    "            return \"The roots are imaginary\"\n",
    "        elif d==0:\n",
    "            x= -self.b/(2*self.a)\n",
    "            return x\n",
    "        else:\n",
    "            x1= (-self.b+(d)**0.5)/(2*self.a)\n",
    "            x2= (-self.b-(d)**0.5)/(2*self.a)\n",
    "            return x1,x2\n",
    "        \n",
    "    def __add__(self,other):\n",
    "        return f\"{self.a+other.a}x^2+{self.b+other.b}x+{self.c+other.c}\"\n",
    "    \n",
    "   # This prohgramme below aids us to pick each of the digits\n",
    "    def __repr__(self):\n",
    "        return f\"Quadratic({self.a},{self.b},{self.c})\"\n",
    "    \n",
    "    def __str__(self):\n",
    "        return f\"{self.a}x^2+{self.b}x+{self.c}\"\n",
    "# FOR SUBTRACTION\n",
    "    def __sub__(self,other):\n",
    "        return f\"{self.a-other.a}x^2+{self.b-other.b}x+{self.c-other.c}\"\n",
    "# FOR MULTIPLICATION\n",
    "    def __mul__(self,other):\n",
    "        return f\"{self.a*other.a}x^2+{self.b*other.b}x+{self.c*other.c}\"\n",
    "# FOR RAISED TO THE POWER\n",
    "    def __pow__(self,other):\n",
    "        return f\"{(self.a+other.a)**3}x^2+{(self.b+other.b)**3}x+{(self.c+other.c)**3}\"\n",
    "  \n",
    "    \n",
    "    \n",
    "    \n",
    "        \n",
    "    "
   ]
  },
  {
   "cell_type": "code",
   "execution_count": 31,
   "id": "0836c820",
   "metadata": {},
   "outputs": [],
   "source": [
    "q1=Quadratic(4,6,7)\n",
    "q2=Quadratic(2,-4,3)"
   ]
  },
  {
   "cell_type": "code",
   "execution_count": 32,
   "id": "6ca915bb",
   "metadata": {},
   "outputs": [
    {
     "data": {
      "text/plain": [
       "'2x^2+10x+4'"
      ]
     },
     "execution_count": 32,
     "metadata": {},
     "output_type": "execute_result"
    }
   ],
   "source": [
    "q1-q2"
   ]
  },
  {
   "cell_type": "code",
   "execution_count": 33,
   "id": "7b067b1c",
   "metadata": {},
   "outputs": [
    {
     "data": {
      "text/plain": [
       "'8x^2+-24x+21'"
      ]
     },
     "execution_count": 33,
     "metadata": {},
     "output_type": "execute_result"
    }
   ],
   "source": [
    "q1*q2"
   ]
  },
  {
   "cell_type": "code",
   "execution_count": 34,
   "id": "284b8b04",
   "metadata": {},
   "outputs": [
    {
     "data": {
      "text/plain": [
       "'216x^2+8x+1000'"
      ]
     },
     "execution_count": 34,
     "metadata": {},
     "output_type": "execute_result"
    }
   ],
   "source": [
    "q1**q2"
   ]
  },
  {
   "cell_type": "code",
   "execution_count": null,
   "id": "ab5cac90",
   "metadata": {},
   "outputs": [],
   "source": []
  }
 ],
 "metadata": {
  "kernelspec": {
   "display_name": "Python 3 (ipykernel)",
   "language": "python",
   "name": "python3"
  },
  "language_info": {
   "codemirror_mode": {
    "name": "ipython",
    "version": 3
   },
   "file_extension": ".py",
   "mimetype": "text/x-python",
   "name": "python",
   "nbconvert_exporter": "python",
   "pygments_lexer": "ipython3",
   "version": "3.11.4"
  }
 },
 "nbformat": 4,
 "nbformat_minor": 5
}
