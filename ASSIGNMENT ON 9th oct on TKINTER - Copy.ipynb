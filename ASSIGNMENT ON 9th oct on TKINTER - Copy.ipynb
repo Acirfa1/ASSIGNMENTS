{
 "cells": [
  {
   "cell_type": "code",
   "execution_count": 1,
   "id": "0afed059",
   "metadata": {},
   "outputs": [],
   "source": [
    "# Using the tkinter function, create a widget, that collects input and adds theinput"
   ]
  },
  {
   "cell_type": "code",
   "execution_count": 3,
   "id": "2856837b",
   "metadata": {},
   "outputs": [
    {
     "name": "stdout",
     "output_type": "stream",
     "text": [
      "100\n",
      "50\n",
      "150.0\n"
     ]
    }
   ],
   "source": [
    "def computer():\n",
    "    print(entry1.get())\n",
    "    print(entry2.get())\n",
    "    computer = float(entry1.get())+float(entry2.get())\n",
    "    print(f\"{computer}\")\n",
    "    \n",
    "from tkinter import *\n",
    "root = Tk()\n",
    "Frame1 = Frame(root)\n",
    "Frame1.pack()\n",
    "\n",
    "Frame2 = Frame(root)\n",
    "Frame2.pack()\n",
    "\n",
    "Label(Frame1,text=\"numberone\").pack(side=\"left\")\n",
    "entry1=Entry(Frame1)\n",
    "entry1.pack()\n",
    "\n",
    "Label(Frame2,text=\"numbertwo\").pack(side=\"left\")\n",
    "entry2=Entry(Frame2)\n",
    "entry2.pack()\n",
    "\n",
    "Button(root,text=\"ADD\",command=computer).pack()\n",
    "\n",
    "root.mainloop()"
   ]
  },
  {
   "cell_type": "code",
   "execution_count": 1,
   "id": "3c8a312f",
   "metadata": {},
   "outputs": [
    {
     "name": "stdout",
     "output_type": "stream",
     "text": [
      "100\n",
      "50\n",
      "50.0\n",
      "100\n",
      "50\n",
      "5000.0\n",
      "100\n",
      "50\n",
      "5000.0\n",
      "100\n",
      "50\n",
      "5000.0\n",
      "100\n",
      "50\n",
      "2.0\n",
      "100\n",
      "50\n",
      "150.0\n"
     ]
    }
   ],
   "source": [
    "def ADD():\n",
    "    print(entry1.get())\n",
    "    print(entry2.get())\n",
    "    ADD = float(entry1.get())+float(entry2.get())\n",
    "    print(f\"{ADD}\")\n",
    "    \n",
    "def SUB():\n",
    "    print(entry1.get())\n",
    "    print(entry2.get())\n",
    "    SUB = float(entry1.get())-float(entry2.get())\n",
    "    print(f\"{SUB}\")\n",
    "    \n",
    "def DIV():\n",
    "    print(entry1.get())\n",
    "    print(entry2.get())\n",
    "    DIV = float(entry1.get())/float(entry2.get())\n",
    "    print(f\"{DIV}\")\n",
    "    \n",
    "def MUL():\n",
    "    print(entry1.get())\n",
    "    print(entry2.get())\n",
    "    MUL = float(entry1.get())*float(entry2.get())\n",
    "    print(f\"{MUL}\")\n",
    "    \n",
    "from tkinter import *\n",
    "root = Tk()\n",
    "Frame1 = Frame(root)\n",
    "Frame1.pack()\n",
    "\n",
    "Frame2 = Frame(root)\n",
    "Frame2.pack()\n",
    "\n",
    "Label(Frame1,text=\"numberone\").pack(side=\"left\")\n",
    "entry1=Entry(Frame1)\n",
    "entry1.pack()\n",
    "\n",
    "Label(Frame2,text=\"numbertwo\").pack(side=\"left\")\n",
    "entry2=Entry(Frame2)\n",
    "entry2.pack()\n",
    "\n",
    "Button(root,text=\"ADD\",command=ADD).pack(side=\"right\")\n",
    "\n",
    "Button(root,text=\"DIV\",command=DIV).pack(side=\"right\")\n",
    "\n",
    "Button(root,text=\"MUL\",command=MUL).pack(side=\"right\")\n",
    "\n",
    "Button(root,text=\"SUB\",command=SUB).pack(side=\"right\")\n",
    "\n",
    "root.mainloop()"
   ]
  },
  {
   "cell_type": "code",
   "execution_count": null,
   "id": "b240e466",
   "metadata": {},
   "outputs": [],
   "source": []
  }
 ],
 "metadata": {
  "kernelspec": {
   "display_name": "Python 3 (ipykernel)",
   "language": "python",
   "name": "python3"
  },
  "language_info": {
   "codemirror_mode": {
    "name": "ipython",
    "version": 3
   },
   "file_extension": ".py",
   "mimetype": "text/x-python",
   "name": "python",
   "nbconvert_exporter": "python",
   "pygments_lexer": "ipython3",
   "version": "3.11.4"
  }
 },
 "nbformat": 4,
 "nbformat_minor": 5
}
